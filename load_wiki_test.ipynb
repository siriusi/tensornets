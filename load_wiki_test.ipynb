{
 "cells": [
  {
   "cell_type": "code",
   "execution_count": null,
   "metadata": {
    "collapsed": false
   },
   "outputs": [],
   "source": [
    "import numpy as np\n",
    "import math\n",
    "import cv2\n",
    "import sys\n",
    "import scipy.io as sio\n",
    "import matplotlib.pyplot as plt\n",
    "import os\n",
    "import h5py"
   ]
  },
  {
   "cell_type": "code",
   "execution_count": null,
   "metadata": {
    "collapsed": true
   },
   "outputs": [],
   "source": [
    "def load_wiki(wiki_path, num_data = None, target_size = (224,224)):\n",
    "    mat_path = wiki_path + 'wiki_with_age.mat'\n",
    "    \n",
    "    data = sio.loadmat(mat_path)\n",
    "    wiki_data = data['wiki'][0][0]\n",
    "   \n",
    "    full_num_data = len(wiki_data[6][0])\n",
    "    if num_data is None or num_data > full_num_data :\n",
    "        num_data = full_num_data\n",
    "        \n",
    "    \n",
    "    full_X_data = np.zeros([num_data, 224, 224, 3],dtype = \"uint8\")\n",
    "    full_y_data = np.zeros([num_data],dtype = \"uint8\")\n",
    "    data_count = 0\n",
    "    #len(wiki_data[6][0])\n",
    "    for i in range(num_data):\n",
    "\n",
    "        face_score =wiki_data[6][0][i]\n",
    "        if face_score != float(\"-inf\"):\n",
    "            full_path = wiki_path + wiki_data[2][0][i][0]\n",
    "            img = cv2.imread(full_path)\n",
    "            age = wiki_data[8][0][i]\n",
    "            date_of_birth = wiki_data[0][0][i]  #下面的657438是出生于1800年的Matlab serial date number\n",
    "            gender = wiki_data[3][0][i]\n",
    "            if img is not None and gender == gender and date_of_birth > 657438 and age >= 0 and age <= 100:\n",
    "                face_loc = wiki_data[5][0][i][0]\n",
    "                face_loc = face_loc.astype(\"int32\")\n",
    "                roi_img = img[face_loc[1]:face_loc[3], face_loc[0]:face_loc[2]]\n",
    "                face_img = cv2.resize(roi_img, target_size)\n",
    "                \n",
    "                full_X_data[data_count] = face_img                \n",
    "                full_y_data[data_count] = gender * 100 + age #一共分为200类，0-99是女性的1-100岁，100-199是男性的1-100岁\n",
    "                \n",
    "                data_count += 1\n",
    "    X_data = full_X_data[:data_count]\n",
    "    y_data = full_y_data[:data_count]\n",
    "    \n",
    "    return X_data, y_data"
   ]
  },
  {
   "cell_type": "code",
   "execution_count": null,
   "metadata": {
    "collapsed": false
   },
   "outputs": [],
   "source": [
    "def get_wiki_data(X_data, y_data, num_training=49000, num_validation=1000, num_test=1000):\n",
    "   \n",
    "    X_train = X_data[:-(num_validation + num_test)]\n",
    "    y_train = y_data[:-(num_validation + num_test)]\n",
    "    X_val = X_data[X_train.shape[0] : -num_test]\n",
    "    y_val = y_data[X_train.shape[0] : -num_test]\n",
    "    X_test = X_data[-num_test:]\n",
    "    y_test = y_data[-num_test:]\n",
    "    \"\"\"\n",
    "    if X_data.shape[0] > num_training + num_validation + num_test:\n",
    "        # Subsample the data\n",
    "        mask = list(range(num_training + num_validation ,  num_training + num_validation + num_test))\n",
    "        X_test = X_data[mask]\n",
    "        y_test = y_data[mask]\n",
    "        mask = list(range(num_training, num_training + num_validation))\n",
    "        X_val = X_data[mask]\n",
    "        y_val = y_data[mask]\n",
    "        mask = list(range(num_training))\n",
    "        X_train = X_data[mask]\n",
    "        y_train = y_data[mask]\n",
    "    \"\"\"\n",
    "    # Normalize the data: subtract the mean image\n",
    "    \"\"\"if subtract_mean:\n",
    "        mean_image = np.mean(X_data, axis=0)\n",
    "        X_train -= mean_image\n",
    "        X_val -= mean_image\n",
    "        X_test -= mean_image\"\"\"\n",
    "    # Transpose so that channels come first\n",
    "    X_train = X_train.transpose(0, 3, 1, 2).copy()\n",
    "    X_val = X_val.transpose(0, 3, 1, 2).copy()\n",
    "    X_test = X_test.transpose(0, 3, 1, 2).copy()\n",
    "\n",
    "    # Package data into a dictionary\n",
    "    return {\n",
    "      'X_train': X_train, 'y_train': y_train,\n",
    "      'X_val': X_val, 'y_val': y_val,\n",
    "      'X_test': X_test, 'y_test': y_test,\n",
    "    }\n",
    "    "
   ]
  },
  {
   "cell_type": "code",
   "execution_count": null,
   "metadata": {
    "collapsed": false,
    "scrolled": true
   },
   "outputs": [],
   "source": [
    "\n",
    "wiki_path = \"\"\n",
    "if sys.platform == \"linux\" :\n",
    "    wiki_path = \"/devdata/wiki/\"\n",
    "else:\n",
    "    wiki_path = \"G:\\\\MachineLearning\\\\wiki\\\\wiki\\\\\"\n",
    "\n",
    "mat_path = wiki_path + 'wiki_with_age.mat'\n",
    "\n",
    "# Create a new file\n",
    "f = None\n",
    "X_data = None\n",
    "y_data = None\n",
    "#wiki_crop_dataset = f.create_dataset('wiki_cropface_data', dtype = \"int32\")\n",
    "if not os.path.exists('/devdata/wiki_cropface_data.h5'):\n",
    "    f = h5py.File('/devdata/wiki_cropface_data.h5', \"r\")\n",
    "    wiki_cropface_group = f[\"wiki_cropface_group\"]\n",
    "    X_data = np.array(wiki_cropface_group[\"X_data\"][:])\n",
    "    y_data = np.array(wiki_cropface_group[\"y_data\"][:])\n",
    "else:\n",
    "    #f = h5py.File('/devdata/wiki_cropface_data.h5',\"w\")\n",
    "    X_data, y_data  = load_wiki(wiki_path, 100)\n",
    "    #wiki_cropface_group = f.create_group(\"wiki_cropface_group\")\n",
    "    #wiki_cropface_group.create_dataset('X_data', dtype = \"uint8\", data = X_data)\n",
    "    #wiki_cropface_group.create_dataset('y_data', dtype = \"uint8\", data = y_data)\n",
    "    \n",
    "print(X_data[0].shape)\n",
    "print(X_data[0].dtype)\n",
    "wiki_cropface_dataset = get_wiki_data(X_data, y_data, num_training=49000, num_validation=10, num_test=0)\n",
    "#f.close()\n",
    "\n",
    "\"\"\"\n",
    "test_img = X_data[0]\n",
    "cv2.imshow(\"test_img\", test_img)\n",
    "cv2.waitKey()\n",
    "cv2.destroyAllWindows()\"\"\"\n"
   ]
  },
  {
   "cell_type": "code",
   "execution_count": null,
   "metadata": {
    "collapsed": false
   },
   "outputs": [],
   "source": [
    "\"\"\"temp = cv2.imread(\"C:\\\\Users\\\\Z\\\\Desktop\\\\2006361_1907-12-25_1945.gif\")\n",
    "print(temp.shape)\n",
    "cv2.imshow(temp)\n",
    "cv2.waitKey()\n",
    "cv2.destroyAllWindows()\"\"\"\n",
    "import numpy\n",
    "x = numpy.arange(100)\n",
    "print(x)\n",
    "print(x[:None])"
   ]
  },
  {
   "cell_type": "code",
   "execution_count": 24,
   "metadata": {
    "collapsed": false
   },
   "outputs": [
    {
     "name": "stdout",
     "output_type": "stream",
     "text": [
      "The autoreload extension is already loaded. To reload it, use:\n",
      "  %reload_ext autoreload\n",
      "read from wiki finished\n",
      "Train data shape:  (3000, 224, 224, 3)\n",
      "Train labels shape for age:  (3000,)\n",
      "Train labels shape for gender:  (3000,)\n",
      "Validation data shape:  (1000, 224, 224, 3)\n",
      "Validation labels shape:  (1000,)\n",
      "Validation labels shape:  (1000,)\n",
      "Test data shape:  (0,)\n",
      "Test labels shape:  (0,)\n",
      "Test labels shape:  (0,)\n",
      "[200.   0.   0.   0. 200.   0.   0.   0. 200.   0.   0.   0. 200.   0.\n",
      "   0.   0. 200.   0.   0.   0.   0. 200.   0.   0.   0. 200.   0.   0.\n",
      "   0. 200.   0.   0.   0. 200.   0.   0.   0. 200.   0.   0.   0.   0.\n",
      " 200.   0.   0.   0. 200.   0.   0.   0. 200.   0.   0.   0. 200.   0.\n",
      "   0.   0. 200.   0.   0.   0.   0. 200.   0.   0.   0. 200.   0.   0.\n",
      "   0. 200.   0.   0.   0. 200.   0.   0.   0. 200.]\n",
      "[20.     20.2375 20.475  20.7125 20.95   21.1875 21.425  21.6625 21.9\n",
      " 22.1375 22.375  22.6125 22.85   23.0875 23.325  23.5625 23.8    24.0375\n",
      " 24.275  24.5125 24.75   24.9875 25.225  25.4625 25.7    25.9375 26.175\n",
      " 26.4125 26.65   26.8875 27.125  27.3625 27.6    27.8375 28.075  28.3125\n",
      " 28.55   28.7875 29.025  29.2625 29.5    29.7375 29.975  30.2125 30.45\n",
      " 30.6875 30.925  31.1625 31.4    31.6375 31.875  32.1125 32.35   32.5875\n",
      " 32.825  33.0625 33.3    33.5375 33.775  34.0125 34.25   34.4875 34.725\n",
      " 34.9625 35.2    35.4375 35.675  35.9125 36.15   36.3875 36.625  36.8625\n",
      " 37.1    37.3375 37.575  37.8125 38.05   38.2875 38.525  38.7625 39.    ]\n",
      "23\n"
     ]
    },
    {
     "data": {
      "image/png": "[encoded data removed]",
      "text/plain": [
       "<matplotlib.figure.Figure at 0x7f9e66b37fd0>"
      ]
     },
     "metadata": {},
     "output_type": "display_data"
    }
   ],
   "source": [
    "from load_wiki_cropface import get_wiki_crop_data\n",
    "import numpy as np\n",
    "import matplotlib.pyplot as plt\n",
    "%matplotlib inline\n",
    "# for auto-reloading external modules\n",
    "# see http://stackoverflow.com/questions/1907993/autoreload-of-modules-in-ipython\n",
    "%load_ext autoreload\n",
    "%autoreload 2\n",
    "age_gender_dict = get_wiki_crop_data(num_training=3000, num_validation=1000, num_test=0)\n",
    "\n",
    "print('Train data shape: ', age_gender_dict[\"X_train\"].shape)\n",
    "print('Train labels shape for age: ', age_gender_dict[\"y_age_train\"].shape)\n",
    "print('Train labels shape for gender: ', age_gender_dict[\"y_gender_train\"].shape)\n",
    "\n",
    "print('Validation data shape: ', age_gender_dict[\"X_val\"].shape)\n",
    "print('Validation labels shape: ', age_gender_dict[\"y_age_val\"].shape)\n",
    "print('Validation labels shape: ', age_gender_dict[\"y_gender_val\"].shape)\n",
    "\n",
    "print('Test data shape: ', age_gender_dict[\"X_test\"].shape)\n",
    "print('Test labels shape: ', age_gender_dict[\"y_age_test\"].shape)\n",
    "print('Test labels shape: ', age_gender_dict[\"y_gender_test\"].shape)\n",
    "\n",
    "plt.subplot(2, 1, 1)\n",
    "temp_age = np.append(age_gender_dict[\"y_age_train\"], age_gender_dict[\"y_age_val\"])\n",
    "x, y,  z= plt.hist(temp_age, bins=80)\n",
    "print(x)\n",
    "print(y)\n",
    "plt.subplot(2, 1, 2)\n",
    "temp_gender = np.append(age_gender_dict[\"y_gender_train\"], age_gender_dict[\"y_gender_val\"])\n",
    "plt.hist(temp_gender, bins=2)\n",
    "plt.show()"
   ]
  }
 ],
 "metadata": {
  "kernelspec": {
   "display_name": "Python 3",
   "language": "python",
   "name": "python3"
  },
  "language_info": {
   "codemirror_mode": {
    "name": "ipython",
    "version": 3
   },
   "file_extension": ".py",
   "mimetype": "text/x-python",
   "name": "python",
   "nbconvert_exporter": "python",
   "pygments_lexer": "ipython3",
   "version": "3.5.2"
  }
 },
 "nbformat": 4,
 "nbformat_minor": 2
}
