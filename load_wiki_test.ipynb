{
 "cells": [
  {
   "cell_type": "code",
   "execution_count": 3,
   "metadata": {
    "collapsed": false
   },
   "outputs": [],
   "source": [
    "import numpy as np\n",
    "import math\n",
    "import cv2\n",
    "import sys\n",
    "import scipy.io as sio\n",
    "import matplotlib.pyplot as plt\n",
    "import os\n",
    "import h5py"
   ]
  },
  {
   "cell_type": "code",
   "execution_count": 4,
   "metadata": {
    "collapsed": true
   },
   "outputs": [],
   "source": [
    "def load_wiki(wiki_path, num_data = None, target_size = (224,224)):\n",
    "    mat_path = wiki_path + 'wiki_with_age.mat'\n",
    "    \n",
    "    data = sio.loadmat(mat_path)\n",
    "    wiki_data = data['wiki'][0][0]\n",
    "   \n",
    "    full_num_data = len(wiki_data[6][0])\n",
    "    if num_data is None or num_data > full_num_data :\n",
    "        num_data = full_num_data\n",
    "        \n",
    "    \n",
    "    full_X_data = np.zeros([num_data, 224, 224, 3],dtype = \"uint8\")\n",
    "    full_y_data = np.zeros([num_data],dtype = \"uint8\")\n",
    "    data_count = 0\n",
    "    #len(wiki_data[6][0])\n",
    "    for i in range(num_data):\n",
    "\n",
    "        face_score =wiki_data[6][0][i]\n",
    "        if face_score != float(\"-inf\"):\n",
    "            full_path = wiki_path + wiki_data[2][0][i][0]\n",
    "            img = cv2.imread(full_path)\n",
    "            age = wiki_data[8][0][i]\n",
    "            date_of_birth = wiki_data[0][0][i]  #下面的657438是出生于1800年的Matlab serial date number\n",
    "            gender = wiki_data[3][0][i]\n",
    "            if img is not None and gender == gender and date_of_birth > 657438 and age >= 0 and age <= 100:\n",
    "                face_loc = wiki_data[5][0][i][0]\n",
    "                face_loc = face_loc.astype(\"int32\")\n",
    "                roi_img = img[face_loc[1]:face_loc[3], face_loc[0]:face_loc[2]]\n",
    "                face_img = cv2.resize(roi_img, target_size)\n",
    "                \n",
    "                full_X_data[data_count] = face_img                \n",
    "                full_y_data[data_count] = gender * 100 + age #一共分为200类，0-99是女性的1-100岁，100-199是男性的1-100岁\n",
    "                \n",
    "                data_count += 1\n",
    "    X_data = full_X_data[:data_count]\n",
    "    y_data = full_y_data[:data_count]\n",
    "    \n",
    "    return X_data, y_data"
   ]
  },
  {
   "cell_type": "code",
   "execution_count": 5,
   "metadata": {
    "collapsed": false
   },
   "outputs": [],
   "source": [
    "def get_wiki_data(X_data, y_data, num_training=49000, num_validation=1000, num_test=1000):\n",
    "   \n",
    "    X_train = X_data[:-(num_validation + num_test)]\n",
    "    y_train = y_data[:-(num_validation + num_test)]\n",
    "    X_val = X_data[X_train.shape[0] : -num_test]\n",
    "    y_val = y_data[X_train.shape[0] : -num_test]\n",
    "    X_test = X_data[-num_test:]\n",
    "    y_test = y_data[-num_test:]\n",
    "    \"\"\"\n",
    "    if X_data.shape[0] > num_training + num_validation + num_test:\n",
    "        # Subsample the data\n",
    "        mask = list(range(num_training + num_validation ,  num_training + num_validation + num_test))\n",
    "        X_test = X_data[mask]\n",
    "        y_test = y_data[mask]\n",
    "        mask = list(range(num_training, num_training + num_validation))\n",
    "        X_val = X_data[mask]\n",
    "        y_val = y_data[mask]\n",
    "        mask = list(range(num_training))\n",
    "        X_train = X_data[mask]\n",
    "        y_train = y_data[mask]\n",
    "    \"\"\"\n",
    "    # Normalize the data: subtract the mean image\n",
    "    \"\"\"if subtract_mean:\n",
    "        mean_image = np.mean(X_data, axis=0)\n",
    "        X_train -= mean_image\n",
    "        X_val -= mean_image\n",
    "        X_test -= mean_image\"\"\"\n",
    "    # Transpose so that channels come first\n",
    "    X_train = X_train.transpose(0, 3, 1, 2).copy()\n",
    "    X_val = X_val.transpose(0, 3, 1, 2).copy()\n",
    "    X_test = X_test.transpose(0, 3, 1, 2).copy()\n",
    "\n",
    "    # Package data into a dictionary\n",
    "    return {\n",
    "      'X_train': X_train, 'y_train': y_train,\n",
    "      'X_val': X_val, 'y_val': y_val,\n",
    "      'X_test': X_test, 'y_test': y_test,\n",
    "    }\n",
    "    "
   ]
  },
  {
   "cell_type": "code",
   "execution_count": 10,
   "metadata": {
    "collapsed": false,
    "scrolled": true
   },
   "outputs": [
    {
     "name": "stdout",
     "output_type": "stream",
     "text": [
      "(224, 224, 3)\n",
      "uint8\n"
     ]
    },
    {
     "data": {
      "text/plain": [
       "'\\ntest_img = X_data[0]\\ncv2.imshow(\"test_img\", test_img)\\ncv2.waitKey()\\ncv2.destroyAllWindows()'"
      ]
     },
     "execution_count": 10,
     "metadata": {},
     "output_type": "execute_result"
    }
   ],
   "source": [
    "\n",
    "wiki_path = \"\"\n",
    "if sys.platform == \"linux\" :\n",
    "    wiki_path = \"/devdata/wiki/\"\n",
    "else:\n",
    "    wiki_path = \"G:\\\\MachineLearning\\\\wiki\\\\wiki\\\\\"\n",
    "\n",
    "mat_path = wiki_path + 'wiki_with_age.mat'\n",
    "\n",
    "# Create a new file\n",
    "f = None\n",
    "X_data = None\n",
    "y_data = None\n",
    "#wiki_crop_dataset = f.create_dataset('wiki_cropface_data', dtype = \"int32\")\n",
    "if not os.path.exists('/devdata/wiki_cropface_data.h5'):\n",
    "    f = h5py.File('/devdata/wiki_cropface_data.h5', \"r\")\n",
    "    wiki_cropface_group = f[\"wiki_cropface_group\"]\n",
    "    X_data = np.array(wiki_cropface_group[\"X_data\"][:])\n",
    "    y_data = np.array(wiki_cropface_group[\"y_data\"][:])\n",
    "else:\n",
    "    #f = h5py.File('/devdata/wiki_cropface_data.h5',\"w\")\n",
    "    X_data, y_data  = load_wiki(wiki_path, 100)\n",
    "    #wiki_cropface_group = f.create_group(\"wiki_cropface_group\")\n",
    "    #wiki_cropface_group.create_dataset('X_data', dtype = \"uint8\", data = X_data)\n",
    "    #wiki_cropface_group.create_dataset('y_data', dtype = \"uint8\", data = y_data)\n",
    "    \n",
    "print(X_data[0].shape)\n",
    "print(X_data[0].dtype)\n",
    "wiki_cropface_dataset = get_wiki_data(X_data, y_data, num_training=49000, num_validation=10, num_test=0)\n",
    "#f.close()\n",
    "\n",
    "\"\"\"\n",
    "test_img = X_data[0]\n",
    "cv2.imshow(\"test_img\", test_img)\n",
    "cv2.waitKey()\n",
    "cv2.destroyAllWindows()\"\"\"\n"
   ]
  },
  {
   "cell_type": "code",
   "execution_count": 7,
   "metadata": {
    "collapsed": false
   },
   "outputs": [
    {
     "name": "stdout",
     "output_type": "stream",
     "text": [
      "[ 0  1  2  3  4  5  6  7  8  9 10 11 12 13 14 15 16 17 18 19 20 21 22 23\n",
      " 24 25 26 27 28 29 30 31 32 33 34 35 36 37 38 39 40 41 42 43 44 45 46 47\n",
      " 48 49 50 51 52 53 54 55 56 57 58 59 60 61 62 63 64 65 66 67 68 69 70 71\n",
      " 72 73 74 75 76 77 78 79 80 81 82 83 84 85 86 87 88 89 90 91 92 93 94 95\n",
      " 96 97 98 99]\n",
      "[ 0  1  2  3  4  5  6  7  8  9 10 11 12 13 14 15 16 17 18 19 20 21 22 23\n",
      " 24 25 26 27 28 29 30 31 32 33 34 35 36 37 38 39 40 41 42 43 44 45 46 47\n",
      " 48 49 50 51 52 53 54 55 56 57 58 59 60 61 62 63 64 65 66 67 68 69 70 71\n",
      " 72 73 74 75 76 77 78 79 80 81 82 83 84 85 86 87 88 89 90 91 92 93 94 95\n",
      " 96 97 98 99]\n"
     ]
    }
   ],
   "source": [
    "\"\"\"temp = cv2.imread(\"C:\\\\Users\\\\Z\\\\Desktop\\\\2006361_1907-12-25_1945.gif\")\n",
    "print(temp.shape)\n",
    "cv2.imshow(temp)\n",
    "cv2.waitKey()\n",
    "cv2.destroyAllWindows()\"\"\"\n",
    "import numpy\n",
    "x = numpy.arange(100)\n",
    "print(x)\n",
    "print(x[:None])"
   ]
  }
 ],
 "metadata": {
  "kernelspec": {
   "display_name": "Python 3",
   "language": "python",
   "name": "python3"
  },
  "language_info": {
   "codemirror_mode": {
    "name": "ipython",
    "version": 3
   },
   "file_extension": ".py",
   "mimetype": "text/x-python",
   "name": "python",
   "nbconvert_exporter": "python",
   "pygments_lexer": "ipython3",
   "version": "3.5.2"
  }
 },
 "nbformat": 4,
 "nbformat_minor": 2
}
